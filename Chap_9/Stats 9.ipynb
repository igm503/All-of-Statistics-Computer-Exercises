{
 "cells": [
  {
   "cell_type": "markdown",
   "id": "6288dad3",
   "metadata": {},
   "source": [
    "1. Let $X_1, ... ,X_n \\sim$ Gamma($\\alpha, \\beta$). Find the method of moments estimator for $\\alpha$ and $\\beta$."
   ]
  },
  {
   "cell_type": "markdown",
   "id": "5f99f12d",
   "metadata": {},
   "source": [
    "$E_\\hat{\\theta}[X] = $"
   ]
  },
  {
   "cell_type": "code",
   "execution_count": 41,
   "id": "6a83f3d4",
   "metadata": {},
   "outputs": [
    {
     "name": "stdout",
     "output_type": "stream",
     "text": [
      "0.02125452407848124\n"
     ]
    }
   ],
   "source": [
    "import numpy as np\n",
    "\n",
    "rng = np.random.default_rng()\n",
    "trials = 10\n",
    "squared_error = np.zeros(trials)\n",
    "t_hat_list = np.zeros(trials)\n",
    "\n",
    "for i in range(trials):\n",
    "    sample = rng.uniform(1,3, size = 10)\n",
    "    a_hat = np.amin(sample)\n",
    "    b_hat = np.amax(sample)\n",
    "    t_hat = (b_hat + a_hat) / 2\n",
    "    t_hat_list[i] = t_hat\n",
    "    squared_error[i] = (t_hat - 2)**2\n",
    "print(squared_error.mean())\n",
    "\n",
    "    \n"
   ]
  },
  {
   "cell_type": "code",
   "execution_count": null,
   "id": "92bf899d",
   "metadata": {},
   "outputs": [],
   "source": []
  },
  {
   "cell_type": "code",
   "execution_count": null,
   "id": "8ad961a1",
   "metadata": {},
   "outputs": [],
   "source": []
  },
  {
   "cell_type": "code",
   "execution_count": null,
   "id": "a9f35a7d",
   "metadata": {},
   "outputs": [],
   "source": []
  }
 ],
 "metadata": {
  "kernelspec": {
   "display_name": "Python 3 (ipykernel)",
   "language": "python",
   "name": "python3"
  },
  "language_info": {
   "codemirror_mode": {
    "name": "ipython",
    "version": 3
   },
   "file_extension": ".py",
   "mimetype": "text/x-python",
   "name": "python",
   "nbconvert_exporter": "python",
   "pygments_lexer": "ipython3",
   "version": "3.9.7"
  }
 },
 "nbformat": 4,
 "nbformat_minor": 5
}
